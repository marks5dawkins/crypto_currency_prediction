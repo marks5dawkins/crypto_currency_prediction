{
 "cells": [
  {
   "cell_type": "code",
   "execution_count": 1,
   "metadata": {},
   "outputs": [],
   "source": [
    "import numpy as \n",
    "import pandas as pd\n",
    "import matplotlib.pyplot as plt\n",
    "import seaborn as sns\n",
    "from sklearn.linear_model import LinearRegression\n",
    "from sklearn.model_selection import train_test_split\n",
    "from sklearn.metrics import r2_score"
   ]
  },
  {
   "cell_type": "code",
   "execution_count": 2,
   "metadata": {},
   "outputs": [
    {
     "name": "stdout",
     "output_type": "stream",
     "text": [
      "(942297, 13)\n"
     ]
    },
    {
     "data": {
      "text/html": [
       "<div>\n",
       "<style scoped>\n",
       "    .dataframe tbody tr th:only-of-type {\n",
       "        vertical-align: middle;\n",
       "    }\n",
       "\n",
       "    .dataframe tbody tr th {\n",
       "        vertical-align: top;\n",
       "    }\n",
       "\n",
       "    .dataframe thead th {\n",
       "        text-align: right;\n",
       "    }\n",
       "</style>\n",
       "<table border=\"1\" class=\"dataframe\">\n",
       "  <thead>\n",
       "    <tr style=\"text-align: right;\">\n",
       "      <th></th>\n",
       "      <th>slug</th>\n",
       "      <th>symbol</th>\n",
       "      <th>name</th>\n",
       "      <th>date</th>\n",
       "      <th>ranknow</th>\n",
       "      <th>open</th>\n",
       "      <th>high</th>\n",
       "      <th>low</th>\n",
       "      <th>close</th>\n",
       "      <th>volume</th>\n",
       "      <th>market</th>\n",
       "      <th>close_ratio</th>\n",
       "      <th>spread</th>\n",
       "    </tr>\n",
       "  </thead>\n",
       "  <tbody>\n",
       "    <tr>\n",
       "      <th>0</th>\n",
       "      <td>bitcoin</td>\n",
       "      <td>BTC</td>\n",
       "      <td>Bitcoin</td>\n",
       "      <td>2013-04-28</td>\n",
       "      <td>1</td>\n",
       "      <td>135.30</td>\n",
       "      <td>135.98</td>\n",
       "      <td>132.10</td>\n",
       "      <td>134.21</td>\n",
       "      <td>0.0</td>\n",
       "      <td>1.488567e+09</td>\n",
       "      <td>0.5438</td>\n",
       "      <td>3.88</td>\n",
       "    </tr>\n",
       "    <tr>\n",
       "      <th>1</th>\n",
       "      <td>bitcoin</td>\n",
       "      <td>BTC</td>\n",
       "      <td>Bitcoin</td>\n",
       "      <td>2013-04-29</td>\n",
       "      <td>1</td>\n",
       "      <td>134.44</td>\n",
       "      <td>147.49</td>\n",
       "      <td>134.00</td>\n",
       "      <td>144.54</td>\n",
       "      <td>0.0</td>\n",
       "      <td>1.603769e+09</td>\n",
       "      <td>0.7813</td>\n",
       "      <td>13.49</td>\n",
       "    </tr>\n",
       "    <tr>\n",
       "      <th>2</th>\n",
       "      <td>bitcoin</td>\n",
       "      <td>BTC</td>\n",
       "      <td>Bitcoin</td>\n",
       "      <td>2013-04-30</td>\n",
       "      <td>1</td>\n",
       "      <td>144.00</td>\n",
       "      <td>146.93</td>\n",
       "      <td>134.05</td>\n",
       "      <td>139.00</td>\n",
       "      <td>0.0</td>\n",
       "      <td>1.542813e+09</td>\n",
       "      <td>0.3843</td>\n",
       "      <td>12.88</td>\n",
       "    </tr>\n",
       "    <tr>\n",
       "      <th>3</th>\n",
       "      <td>bitcoin</td>\n",
       "      <td>BTC</td>\n",
       "      <td>Bitcoin</td>\n",
       "      <td>2013-05-01</td>\n",
       "      <td>1</td>\n",
       "      <td>139.00</td>\n",
       "      <td>139.89</td>\n",
       "      <td>107.72</td>\n",
       "      <td>116.99</td>\n",
       "      <td>0.0</td>\n",
       "      <td>1.298955e+09</td>\n",
       "      <td>0.2882</td>\n",
       "      <td>32.17</td>\n",
       "    </tr>\n",
       "    <tr>\n",
       "      <th>4</th>\n",
       "      <td>bitcoin</td>\n",
       "      <td>BTC</td>\n",
       "      <td>Bitcoin</td>\n",
       "      <td>2013-05-02</td>\n",
       "      <td>1</td>\n",
       "      <td>116.38</td>\n",
       "      <td>125.60</td>\n",
       "      <td>92.28</td>\n",
       "      <td>105.21</td>\n",
       "      <td>0.0</td>\n",
       "      <td>1.168517e+09</td>\n",
       "      <td>0.3881</td>\n",
       "      <td>33.32</td>\n",
       "    </tr>\n",
       "  </tbody>\n",
       "</table>\n",
       "</div>"
      ],
      "text/plain": [
       "      slug symbol     name        date  ranknow    open    high     low  \\\n",
       "0  bitcoin    BTC  Bitcoin  2013-04-28        1  135.30  135.98  132.10   \n",
       "1  bitcoin    BTC  Bitcoin  2013-04-29        1  134.44  147.49  134.00   \n",
       "2  bitcoin    BTC  Bitcoin  2013-04-30        1  144.00  146.93  134.05   \n",
       "3  bitcoin    BTC  Bitcoin  2013-05-01        1  139.00  139.89  107.72   \n",
       "4  bitcoin    BTC  Bitcoin  2013-05-02        1  116.38  125.60   92.28   \n",
       "\n",
       "    close  volume        market  close_ratio  spread  \n",
       "0  134.21     0.0  1.488567e+09       0.5438    3.88  \n",
       "1  144.54     0.0  1.603769e+09       0.7813   13.49  \n",
       "2  139.00     0.0  1.542813e+09       0.3843   12.88  \n",
       "3  116.99     0.0  1.298955e+09       0.2882   32.17  \n",
       "4  105.21     0.0  1.168517e+09       0.3881   33.32  "
      ]
     },
     "execution_count": 2,
     "metadata": {},
     "output_type": "execute_result"
    }
   ],
   "source": [
    "df_crypto = pd.read_csv('data/crypto-markets.csv')\n",
    "\n",
    "print(df_crypto.shape)\n",
    "df_crypto.head()"
   ]
  },
  {
   "cell_type": "code",
   "execution_count": 3,
   "metadata": {},
   "outputs": [
    {
     "data": {
      "text/html": [
       "<div>\n",
       "<style scoped>\n",
       "    .dataframe tbody tr th:only-of-type {\n",
       "        vertical-align: middle;\n",
       "    }\n",
       "\n",
       "    .dataframe tbody tr th {\n",
       "        vertical-align: top;\n",
       "    }\n",
       "\n",
       "    .dataframe thead th {\n",
       "        text-align: right;\n",
       "    }\n",
       "</style>\n",
       "<table border=\"1\" class=\"dataframe\">\n",
       "  <thead>\n",
       "    <tr style=\"text-align: right;\">\n",
       "      <th></th>\n",
       "      <th>ranknow</th>\n",
       "      <th>open</th>\n",
       "      <th>high</th>\n",
       "      <th>low</th>\n",
       "      <th>close</th>\n",
       "      <th>volume</th>\n",
       "      <th>market</th>\n",
       "      <th>close_ratio</th>\n",
       "      <th>spread</th>\n",
       "    </tr>\n",
       "  </thead>\n",
       "  <tbody>\n",
       "    <tr>\n",
       "      <th>count</th>\n",
       "      <td>942297.000000</td>\n",
       "      <td>9.422970e+05</td>\n",
       "      <td>9.422970e+05</td>\n",
       "      <td>9.422970e+05</td>\n",
       "      <td>9.422970e+05</td>\n",
       "      <td>9.422970e+05</td>\n",
       "      <td>9.422970e+05</td>\n",
       "      <td>942297.000000</td>\n",
       "      <td>9.422970e+05</td>\n",
       "    </tr>\n",
       "    <tr>\n",
       "      <th>mean</th>\n",
       "      <td>1000.170608</td>\n",
       "      <td>3.483522e+02</td>\n",
       "      <td>4.085930e+02</td>\n",
       "      <td>2.962526e+02</td>\n",
       "      <td>3.461018e+02</td>\n",
       "      <td>8.720383e+06</td>\n",
       "      <td>1.725060e+08</td>\n",
       "      <td>0.459499</td>\n",
       "      <td>1.123400e+02</td>\n",
       "    </tr>\n",
       "    <tr>\n",
       "      <th>std</th>\n",
       "      <td>587.575283</td>\n",
       "      <td>1.318436e+04</td>\n",
       "      <td>1.616386e+04</td>\n",
       "      <td>1.092931e+04</td>\n",
       "      <td>1.309822e+04</td>\n",
       "      <td>1.839802e+08</td>\n",
       "      <td>3.575590e+09</td>\n",
       "      <td>0.326160</td>\n",
       "      <td>6.783713e+03</td>\n",
       "    </tr>\n",
       "    <tr>\n",
       "      <th>min</th>\n",
       "      <td>1.000000</td>\n",
       "      <td>2.500000e-09</td>\n",
       "      <td>3.200000e-09</td>\n",
       "      <td>2.500000e-10</td>\n",
       "      <td>2.000000e-10</td>\n",
       "      <td>0.000000e+00</td>\n",
       "      <td>0.000000e+00</td>\n",
       "      <td>-1.000000</td>\n",
       "      <td>0.000000e+00</td>\n",
       "    </tr>\n",
       "    <tr>\n",
       "      <th>25%</th>\n",
       "      <td>465.000000</td>\n",
       "      <td>2.321000e-03</td>\n",
       "      <td>2.628000e-03</td>\n",
       "      <td>2.044000e-03</td>\n",
       "      <td>2.314000e-03</td>\n",
       "      <td>1.750000e+02</td>\n",
       "      <td>2.958100e+04</td>\n",
       "      <td>0.162900</td>\n",
       "      <td>0.000000e+00</td>\n",
       "    </tr>\n",
       "    <tr>\n",
       "      <th>50%</th>\n",
       "      <td>1072.000000</td>\n",
       "      <td>2.398300e-02</td>\n",
       "      <td>2.680200e-02</td>\n",
       "      <td>2.143700e-02</td>\n",
       "      <td>2.389200e-02</td>\n",
       "      <td>4.278000e+03</td>\n",
       "      <td>5.227960e+05</td>\n",
       "      <td>0.432400</td>\n",
       "      <td>0.000000e+00</td>\n",
       "    </tr>\n",
       "    <tr>\n",
       "      <th>75%</th>\n",
       "      <td>1484.000000</td>\n",
       "      <td>2.268600e-01</td>\n",
       "      <td>2.508940e-01</td>\n",
       "      <td>2.043910e-01</td>\n",
       "      <td>2.259340e-01</td>\n",
       "      <td>1.190900e+05</td>\n",
       "      <td>6.874647e+06</td>\n",
       "      <td>0.745800</td>\n",
       "      <td>3.000000e-02</td>\n",
       "    </tr>\n",
       "    <tr>\n",
       "      <th>max</th>\n",
       "      <td>2072.000000</td>\n",
       "      <td>2.298390e+06</td>\n",
       "      <td>2.926100e+06</td>\n",
       "      <td>2.030590e+06</td>\n",
       "      <td>2.300740e+06</td>\n",
       "      <td>2.384090e+10</td>\n",
       "      <td>3.265025e+11</td>\n",
       "      <td>1.000000</td>\n",
       "      <td>1.770563e+06</td>\n",
       "    </tr>\n",
       "  </tbody>\n",
       "</table>\n",
       "</div>"
      ],
      "text/plain": [
       "             ranknow          open          high           low         close  \\\n",
       "count  942297.000000  9.422970e+05  9.422970e+05  9.422970e+05  9.422970e+05   \n",
       "mean     1000.170608  3.483522e+02  4.085930e+02  2.962526e+02  3.461018e+02   \n",
       "std       587.575283  1.318436e+04  1.616386e+04  1.092931e+04  1.309822e+04   \n",
       "min         1.000000  2.500000e-09  3.200000e-09  2.500000e-10  2.000000e-10   \n",
       "25%       465.000000  2.321000e-03  2.628000e-03  2.044000e-03  2.314000e-03   \n",
       "50%      1072.000000  2.398300e-02  2.680200e-02  2.143700e-02  2.389200e-02   \n",
       "75%      1484.000000  2.268600e-01  2.508940e-01  2.043910e-01  2.259340e-01   \n",
       "max      2072.000000  2.298390e+06  2.926100e+06  2.030590e+06  2.300740e+06   \n",
       "\n",
       "             volume        market    close_ratio        spread  \n",
       "count  9.422970e+05  9.422970e+05  942297.000000  9.422970e+05  \n",
       "mean   8.720383e+06  1.725060e+08       0.459499  1.123400e+02  \n",
       "std    1.839802e+08  3.575590e+09       0.326160  6.783713e+03  \n",
       "min    0.000000e+00  0.000000e+00      -1.000000  0.000000e+00  \n",
       "25%    1.750000e+02  2.958100e+04       0.162900  0.000000e+00  \n",
       "50%    4.278000e+03  5.227960e+05       0.432400  0.000000e+00  \n",
       "75%    1.190900e+05  6.874647e+06       0.745800  3.000000e-02  \n",
       "max    2.384090e+10  3.265025e+11       1.000000  1.770563e+06  "
      ]
     },
     "execution_count": 3,
     "metadata": {},
     "output_type": "execute_result"
    }
   ],
   "source": [
    "df_crypto.describe()"
   ]
  },
  {
   "cell_type": "code",
   "execution_count": 4,
   "metadata": {},
   "outputs": [
    {
     "data": {
      "text/plain": [
       "<seaborn.axisgrid.FacetGrid at 0xbaceec8>"
      ]
     },
     "execution_count": 4,
     "metadata": {},
     "output_type": "execute_result"
    },
    {
     "data": {
      "image/png": "[encoded data removed]",
      "text/plain": [
       "<Figure size 360x360 with 1 Axes>"
      ]
     },
     "metadata": {
      "needs_background": "light"
     },
     "output_type": "display_data"
    }
   ],
   "source": [
    "sns.relplot(x='low', y='high', data=df_crypto)"
   ]
  },
  {
   "cell_type": "code",
   "execution_count": 78,
   "metadata": {},
   "outputs": [],
   "source": [
    "x = df_crypto[['open', 'low', 'high', 'volume', 'market']].values\n",
    "y = df_crypto['close'].values"
   ]
  },
  {
   "cell_type": "code",
   "execution_count": 79,
   "metadata": {},
   "outputs": [],
   "source": [
    "X_train, X_test, y_train, y_test = train_test_split(x, y, test_size=0.2, random_state=0)"
   ]
  },
  {
   "cell_type": "code",
   "execution_count": 80,
   "metadata": {},
   "outputs": [
    {
     "data": {
      "text/plain": [
       "LinearRegression(copy_X=True, fit_intercept=True, n_jobs=None, normalize=False)"
      ]
     },
     "execution_count": 80,
     "metadata": {},
     "output_type": "execute_result"
    }
   ],
   "source": [
    "# Create the model & Fit\n",
    "reg = LinearRegression()\n",
    "reg.fit(X_train, y_train)"
   ]
  },
  {
   "cell_type": "code",
   "execution_count": 81,
   "metadata": {},
   "outputs": [
    {
     "name": "stdout",
     "output_type": "stream",
     "text": [
      "[3.55840e-02 1.94570e-02 2.97353e-01 ... 5.21412e-01 2.36490e+02\n",
      " 5.84751e-01]\n",
      "[  3.31541446   3.29478582   3.57800277 ...   3.8068386  248.96825803\n",
      "   3.86266639]\n"
     ]
    }
   ],
   "source": [
    "# Predict\n",
    "y_predict = reg.predict(X_test)\n",
    "\n",
    "print(y_test)\n",
    "print(y_predict)"
   ]
  },
  {
   "cell_type": "code",
   "execution_count": 82,
   "metadata": {},
   "outputs": [
    {
     "data": {
      "text/plain": [
       "array([-3.91561586e-01,  8.28448037e-01,  5.72023135e-01,  8.92866168e-09,\n",
       "       -2.29963604e-10])"
      ]
     },
     "execution_count": 82,
     "metadata": {},
     "output_type": "execute_result"
    }
   ],
   "source": [
    "# Find the coefficient\n",
    "reg_coef = reg.coef_\n",
    "reg_coef"
   ]
  },
  {
   "cell_type": "code",
   "execution_count": 83,
   "metadata": {},
   "outputs": [
    {
     "data": {
      "text/plain": [
       "3.278350911164125"
      ]
     },
     "execution_count": 83,
     "metadata": {},
     "output_type": "execute_result"
    }
   ],
   "source": [
    "# Find the y intercept\n",
    "reg_intercept = reg.intercept_\n",
    "reg_intercept"
   ]
  },
  {
   "cell_type": "code",
   "execution_count": 84,
   "metadata": {},
   "outputs": [
    {
     "data": {
      "text/plain": [
       "0.965477576288664"
      ]
     },
     "execution_count": 84,
     "metadata": {},
     "output_type": "execute_result"
    }
   ],
   "source": [
    "# Calculate the model accuracy\n",
    "acc = r2_score(y_test, y_predict)\n",
    "acc"
   ]
  },
  {
   "cell_type": "code",
   "execution_count": 86,
   "metadata": {},
   "outputs": [
    {
     "ename": "NameError",
     "evalue": "name 'np' is not defined",
     "output_type": "error",
     "traceback": [
      "\u001b[1;31m---------------------------------------------------------------------------\u001b[0m",
      "\u001b[1;31mNameError\u001b[0m                                 Traceback (most recent call last)",
      "\u001b[1;32m<ipython-input-86-4f54b90d7c58>\u001b[0m in \u001b[0;36m<module>\u001b[1;34m\u001b[0m\n\u001b[0;32m      1\u001b[0m \u001b[1;31m# Create a dataframe for Actual values vs Predicted values\u001b[0m\u001b[1;33m\u001b[0m\u001b[1;33m\u001b[0m\u001b[1;33m\u001b[0m\u001b[0m\n\u001b[1;32m----> 2\u001b[1;33m \u001b[0mdf_predicted\u001b[0m \u001b[1;33m=\u001b[0m \u001b[0mpd\u001b[0m\u001b[1;33m.\u001b[0m\u001b[0mDataFrame\u001b[0m\u001b[1;33m(\u001b[0m\u001b[1;33m{\u001b[0m\u001b[1;34m'Actual Value'\u001b[0m\u001b[1;33m:\u001b[0m \u001b[0mnp\u001b[0m\u001b[1;33m.\u001b[0m\u001b[0marray\u001b[0m\u001b[1;33m(\u001b[0m\u001b[0my_test\u001b[0m\u001b[1;33m.\u001b[0m\u001b[0mflatten\u001b[0m\u001b[1;33m(\u001b[0m\u001b[1;33m)\u001b[0m\u001b[1;33m)\u001b[0m\u001b[1;33m,\u001b[0m \u001b[1;34m'Predicted Value'\u001b[0m\u001b[1;33m:\u001b[0m \u001b[0my_predict\u001b[0m\u001b[1;33m.\u001b[0m\u001b[0mflatten\u001b[0m\u001b[1;33m(\u001b[0m\u001b[1;33m)\u001b[0m\u001b[1;33m}\u001b[0m\u001b[1;33m)\u001b[0m\u001b[1;33m\u001b[0m\u001b[1;33m\u001b[0m\u001b[0m\n\u001b[0m\u001b[0;32m      3\u001b[0m \u001b[0mdf_predicted\u001b[0m\u001b[1;33m.\u001b[0m\u001b[0mhead\u001b[0m\u001b[1;33m(\u001b[0m\u001b[1;33m)\u001b[0m\u001b[1;33m\u001b[0m\u001b[1;33m\u001b[0m\u001b[0m\n",
      "\u001b[1;31mNameError\u001b[0m: name 'np' is not defined"
     ]
    }
   ],
   "source": [
    "# Create a dataframe for Actual values vs Predicted values\n",
    "df_predicted = pd.DataFrame({'Actual Value': np.array(y_test.flatten()), 'Predicted Value': y_predict.flatten()})\n",
    "df_predicted.head()"
   ]
  },
  {
   "cell_type": "code",
   "execution_count": null,
   "metadata": {},
   "outputs": [],
   "source": []
  }
 ],
 "metadata": {
  "kernelspec": {
   "display_name": "Python 3",
   "language": "python",
   "name": "python3"
  },
  "language_info": {
   "codemirror_mode": {
    "name": "ipython",
    "version": 3
   },
   "file_extension": ".py",
   "mimetype": "text/x-python",
   "name": "python",
   "nbconvert_exporter": "python",
   "pygments_lexer": "ipython3",
   "version": "3.7.6"
  }
 },
 "nbformat": 4,
 "nbformat_minor": 4
}
